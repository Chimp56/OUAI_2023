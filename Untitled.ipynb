{
 "cells": [
  {
   "cell_type": "code",
   "execution_count": 230,
   "id": "01c633d3-1862-4ba6-a70f-16ff96914277",
   "metadata": {},
   "outputs": [],
   "source": [
    "import json\n",
    "f = open('dataset.json', encoding='utf8')\n",
    "dataset = json.load(f)"
   ]
  },
  {
   "cell_type": "code",
   "execution_count": 231,
   "id": "6921c871-53ea-4cbe-8a41-83e36b37eae5",
   "metadata": {
    "tags": []
   },
   "outputs": [
    {
     "data": {
      "text/plain": [
       "8434"
      ]
     },
     "execution_count": 231,
     "metadata": {},
     "output_type": "execute_result"
    }
   ],
   "source": [
    "len(dataset)"
   ]
  },
  {
   "cell_type": "code",
   "execution_count": 232,
   "id": "829cd859-80ce-49ca-8f7d-0b6149233bd1",
   "metadata": {
    "tags": []
   },
   "outputs": [
    {
     "name": "stdout",
     "output_type": "stream",
     "text": [
      "36146\n",
      "24918\n"
     ]
    }
   ],
   "source": [
    "import random\n",
    "\n",
    "c = 0\n",
    "for item in dataset:\n",
    "    c += len(item['utterances'])\n",
    "print(c)\n",
    "\n",
    "reduced_dataset = {'history': [\"I am spongebob\"], 'utterances': []}\n",
    "\n",
    "\n",
    "for item in dataset:\n",
    "    for utterance in item['utterances']:\n",
    "        # calculate length of history\n",
    "        l = 0\n",
    "        for history in utterance[\"history\"]:\n",
    "            l += len(history.split())\n",
    "        if l > 150:\n",
    "            continue\n",
    "        else:\n",
    "            reduced_dataset['utterances'].append(utterance)\n",
    "        \n",
    "\n",
    "    \n",
    "    \n",
    "print(len(reduced_dataset['utterances']))\n",
    "\n"
   ]
  },
  {
   "cell_type": "code",
   "execution_count": 233,
   "id": "05e36d72-e7d5-4726-9315-1563270ee0f1",
   "metadata": {},
   "outputs": [
    {
     "data": {
      "text/plain": [
       "0.37404355167317094"
      ]
     },
     "execution_count": 233,
     "metadata": {},
     "output_type": "execute_result"
    }
   ],
   "source": [
    "import random\n",
    "random.random()"
   ]
  },
  {
   "cell_type": "code",
   "execution_count": 234,
   "id": "c6c22daf-f7ad-435d-84b1-a9ed27269096",
   "metadata": {},
   "outputs": [],
   "source": [
    "dataset = {\n",
    "    'train': [{'personality': [\"I am spongebob\"], 'utterances': []}],\n",
    "    'valid': [{'personality': [\"I am spongebob\"], 'utterances': []}]\n",
    "}\n",
    "\n"
   ]
  },
  {
   "cell_type": "code",
   "execution_count": 235,
   "id": "1c3cd3b7-3d7c-41c1-a34e-e68bb42aaa28",
   "metadata": {},
   "outputs": [],
   "source": [
    "for utterance in reduced_dataset['utterances']:\n",
    "    rn = random.random()\n",
    "    if rn < 0.75:\n",
    "        dataset['train'][0]['utterances'].append(utterance)\n",
    "    else:\n",
    "        dataset['valid'][0]['utterances'].append(utterance)"
   ]
  },
  {
   "cell_type": "code",
   "execution_count": 236,
   "id": "6b62056b-d788-45b2-b9ae-a2b2815fac29",
   "metadata": {},
   "outputs": [],
   "source": [
    "json_ob = json.dumps(dataset)"
   ]
  },
  {
   "cell_type": "code",
   "execution_count": 237,
   "id": "2a3ff9b7-c53b-40c4-a530-9128784ad30e",
   "metadata": {},
   "outputs": [],
   "source": [
    "with open('dataset_dict.json', 'w') as f:\n",
    "    f.write(json_ob)"
   ]
  },
  {
   "cell_type": "code",
   "execution_count": 160,
   "id": "21d55f28-a784-4e84-a844-2865ad997cbc",
   "metadata": {},
   "outputs": [
    {
     "data": {
      "text/plain": [
       "11"
      ]
     },
     "execution_count": 160,
     "metadata": {},
     "output_type": "execute_result"
    }
   ],
   "source": [
    "t = \"hello world\"\n",
    "len(t)"
   ]
  },
  {
   "cell_type": "code",
   "execution_count": null,
   "id": "dc5138f3-a1e0-4117-8aa4-bc0dcd7c30da",
   "metadata": {},
   "outputs": [],
   "source": []
  }
 ],
 "metadata": {
  "kernelspec": {
   "display_name": "ouaiml",
   "language": "python",
   "name": "ouaiml"
  },
  "language_info": {
   "codemirror_mode": {
    "name": "ipython",
    "version": 3
   },
   "file_extension": ".py",
   "mimetype": "text/x-python",
   "name": "python",
   "nbconvert_exporter": "python",
   "pygments_lexer": "ipython3",
   "version": "3.10.8"
  }
 },
 "nbformat": 4,
 "nbformat_minor": 5
}
